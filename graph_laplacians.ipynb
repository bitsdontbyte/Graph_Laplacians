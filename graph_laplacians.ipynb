{
 "cells": [
  {
   "cell_type": "code",
   "execution_count": 2,
   "id": "59814911-7617-4a80-af56-b27d499ef813",
   "metadata": {},
   "outputs": [],
   "source": [
    "import networkx as nx\n",
    "import itertools\n",
    "from numpy.linalg import eig\n",
    "import numpy as np\n",
    "from collections import defaultdict \n",
    "from gudhi.representations import PersistenceImage\n",
    "import matplotlib.pyplot as plt\n",
    "import warnings"
   ]
  },
  {
   "cell_type": "code",
   "execution_count": 3,
   "id": "65b857f1-e3e7-4062-8ae1-0b20a3d0dd1d",
   "metadata": {},
   "outputs": [],
   "source": [
    "warnings.filterwarnings('ignore')\n",
    "master_list = []"
   ]
  },
  {
   "cell_type": "code",
   "execution_count": 4,
   "id": "b98a2022-79ab-4d3b-8b4f-5517c706f638",
   "metadata": {},
   "outputs": [],
   "source": [
    "def sort_each_list(data_dict):\n",
    "    sorted_data = {}\n",
    "    for key, value in data_dict.items():\n",
    "        sorted_data[key] = [sorted(lst) for lst in value]\n",
    "    return sorted_data"
   ]
  },
  {
   "cell_type": "code",
   "execution_count": 5,
   "id": "e15a7ccc-fe26-48a6-91a6-9b2d520ae7cf",
   "metadata": {},
   "outputs": [
    {
     "data": {
      "image/png": "[encoded data removed]",
      "text/plain": [
       "<Figure size 640x480 with 1 Axes>"
      ]
     },
     "metadata": {},
     "output_type": "display_data"
    }
   ],
   "source": [
    "G = nx.Graph()\n",
    "G.add_nodes_from([1,2,3,4])\n",
    "G.add_edges_from([(1,2),(1,3),(2,3),(3,4)])\n",
    "G = nx.convert_node_labels_to_integers(G, first_label=1, ordering='default', label_attribute=None)\n",
    "nx.draw(G, with_labels=True)"
   ]
  },
  {
   "cell_type": "code",
   "execution_count": 6,
   "id": "8dd897fd-7985-4b0d-a8ba-2d52c4e1144d",
   "metadata": {
    "tags": []
   },
   "outputs": [
    {
     "name": "stdout",
     "output_type": "stream",
     "text": [
      "[[1, 2], [1, 3, 2], [1, 2, 3], [1, 3], [1, 2, 3, 4], [1, 3, 4], [2, 1, 3], [2, 3], [2, 1, 3, 4], [2, 3, 4], [3, 4]]\n"
     ]
    }
   ],
   "source": [
    "all_paths = []\n",
    "nodes_combs = itertools.combinations(G.nodes, 2)\n",
    "\n",
    "required_max_path_length = 3 # (inferior or equal to)\n",
    "\n",
    "for source, target in nodes_combs:\n",
    "    paths = nx.all_simple_paths(G, source=source, target=target, cutoff=required_max_path_length)\n",
    "    for path in paths:\n",
    "        # if path not in all_paths and path[::-1] not in all_paths:\n",
    "        all_paths.append(path)\n",
    "print(all_paths)"
   ]
  },
  {
   "cell_type": "code",
   "execution_count": 8,
   "id": "264d3e66-b0cc-4146-8f25-8b4da81ebbbe",
   "metadata": {},
   "outputs": [
    {
     "data": {
      "text/plain": [
       "array([[ 1.        , -0.5       , -0.40824829,  0.        ],\n",
       "       [-0.5       ,  1.        , -0.40824829,  0.        ],\n",
       "       [-0.40824829, -0.40824829,  1.        , -0.57735027],\n",
       "       [ 0.        ,  0.        , -0.57735027,  1.        ]])"
      ]
     },
     "execution_count": 8,
     "metadata": {},
     "output_type": "execute_result"
    }
   ],
   "source": [
    "Lap = nx.laplacian_matrix(G)\n",
    "A_lapl = nx.normalized_laplacian_matrix(G).toarray()\n",
    "A_lapl"
   ]
  },
  {
   "cell_type": "code",
   "execution_count": 14,
   "id": "ec01cb52-024e-4706-bdac-d4d0b610fe42",
   "metadata": {},
   "outputs": [
    {
     "data": {
      "text/plain": [
       "(array([0.        , 0.77128645, 1.5       , 1.72871355]),\n",
       " array([[-5.00000000e-01, -4.36209951e-01,  7.07106781e-01,\n",
       "          2.44378557e-01],\n",
       "        [-5.00000000e-01, -4.36209951e-01, -7.07106781e-01,\n",
       "          2.44378557e-01],\n",
       "        [-6.12372436e-01,  2.89867343e-01,  1.47411531e-15,\n",
       "         -7.35511335e-01],\n",
       "        [-3.53553391e-01,  7.31723091e-01, -1.64100273e-15,\n",
       "          5.82736062e-01]]))"
      ]
     },
     "execution_count": 14,
     "metadata": {},
     "output_type": "execute_result"
    }
   ],
   "source": [
    "eigen_values,eigen_vectors=eig(A_lapl)\n",
    "eigen_values, eigen_vectors"
   ]
  },
  {
   "cell_type": "code",
   "execution_count": 15,
   "id": "efa2db88-22fa-4826-a280-9b56ca1b9f74",
   "metadata": {},
   "outputs": [
    {
     "data": {
      "text/plain": [
       "['0.00000', '0.77129', '1.50000', '1.72871']"
      ]
     },
     "execution_count": 15,
     "metadata": {},
     "output_type": "execute_result"
    }
   ],
   "source": [
    "eigen_values = np.real(eigen_values)\n",
    "eigen_vectors = np.real(eigen_vectors)\n",
    "\n",
    "eigen_lst = eigen_values.tolist() \n",
    "eigen_lst_rounded = [ '%.5f' % elem for elem in eigen_lst ]\n",
    "eigen_lst_rounded"
   ]
  },
  {
   "cell_type": "code",
   "execution_count": 21,
   "id": "b1e6c76c-daf6-4538-8e88-20805f7af8ad",
   "metadata": {},
   "outputs": [
    {
     "data": {
      "text/plain": [
       "[]"
      ]
     },
     "execution_count": 21,
     "metadata": {},
     "output_type": "execute_result"
    }
   ],
   "source": [
    "# indicies of duplicates\n",
    "dup_indecies= dict((x, indices(eigen_lst_rounded, x)) for x in set(eigen_lst_rounded) if eigen_lst_rounded.count(x) > 1)\n",
    "dup_list =list(set().union(*dup_indecies.values()))\n",
    "dup_list"
   ]
  },
  {
   "cell_type": "code",
   "execution_count": 22,
   "id": "fb2aace8-1cbe-4dee-bb52-5545e6835d2c",
   "metadata": {},
   "outputs": [
    {
     "data": {
      "text/plain": [
       "array([[-5.00000000e-01, -4.36209951e-01,  7.07106781e-01,\n",
       "         2.44378557e-01],\n",
       "       [-5.00000000e-01, -4.36209951e-01, -7.07106781e-01,\n",
       "         2.44378557e-01],\n",
       "       [-6.12372436e-01,  2.89867343e-01,  1.47411531e-15,\n",
       "        -7.35511335e-01],\n",
       "       [-3.53553391e-01,  7.31723091e-01, -1.64100273e-15,\n",
       "         5.82736062e-01]])"
      ]
     },
     "execution_count": 22,
     "metadata": {},
     "output_type": "execute_result"
    }
   ],
   "source": [
    "eigen_vectors = np.array(eigen_vectors)\n",
    "# delete the eigen vectors corresponding to the eigen values with multiplicity >=2\n",
    "eigen_vectors = np.delete(eigen_vectors, dup_list, axis=1)\n",
    "eigen_vectors"
   ]
  },
  {
   "cell_type": "code",
   "execution_count": 23,
   "id": "3ce75607-8d8b-4d4f-bf35-e5fc2c408323",
   "metadata": {},
   "outputs": [
    {
     "data": {
      "text/plain": [
       "array([1.88769529, 1.88769529, 1.63775111, 1.66801254])"
      ]
     },
     "execution_count": 23,
     "metadata": {},
     "output_type": "execute_result"
    }
   ],
   "source": [
    "# add up all teh values in each row corresponding to \n",
    "# the eigen vector values for the n verices\n",
    "eigen_vectors_absol = np.absolute(eigen_vectors)\n",
    "sum_eigen_vectors = np.sum(eigen_vectors_absol, axis = 1)\n",
    "sum_eigen_vectors"
   ]
  },
  {
   "cell_type": "code",
   "execution_count": 24,
   "id": "d7ae9a0c-8d56-4788-99ba-226d1870488d",
   "metadata": {},
   "outputs": [
    {
     "data": {
      "text/plain": [
       "matrix([[0, 1, 1, 0],\n",
       "        [1, 0, 1, 0],\n",
       "        [1, 1, 0, 1],\n",
       "        [0, 0, 1, 0]], dtype=int32)"
      ]
     },
     "execution_count": 24,
     "metadata": {},
     "output_type": "execute_result"
    }
   ],
   "source": [
    "A = nx.adjacency_matrix(G)\n",
    "adjaceny_matrix = A.todense()\n",
    "adjaceny_matrix"
   ]
  },
  {
   "cell_type": "code",
   "execution_count": 25,
   "id": "3f3b8edf-7f26-4f73-8903-a7073809d396",
   "metadata": {},
   "outputs": [
    {
     "data": {
      "text/plain": [
       "matrix([[0.        , 1.88769529, 1.63775111, 0.        ],\n",
       "        [1.88769529, 0.        , 1.63775111, 0.        ],\n",
       "        [1.88769529, 1.88769529, 0.        , 1.66801254],\n",
       "        [0.        , 0.        , 1.63775111, 0.        ]])"
      ]
     },
     "execution_count": 25,
     "metadata": {},
     "output_type": "execute_result"
    }
   ],
   "source": [
    "# row based Multiplication\n",
    "adjXeigen= np.multiply(adjaceny_matrix, sum_eigen_vectors)\n",
    "adjXeigen"
   ]
  },
  {
   "cell_type": "code",
   "execution_count": 26,
   "id": "0af44b85-1235-4e0c-bf5e-a5ff00b9c346",
   "metadata": {},
   "outputs": [
    {
     "data": {
      "text/plain": [
       "matrix([[0.        , 1.        , 0.86759294, 0.        ],\n",
       "        [1.        , 0.        , 0.86759294, 0.        ],\n",
       "        [1.15261426, 1.15261426, 0.        , 1.01847743],\n",
       "        [0.        , 0.        , 0.98185779, 0.        ]])"
      ]
     },
     "execution_count": 26,
     "metadata": {},
     "output_type": "execute_result"
    }
   ],
   "source": [
    "adjXeigen = adjXeigen /sum_eigen_vectors[:,None]\n",
    "adjXeigen"
   ]
  },
  {
   "cell_type": "code",
   "execution_count": 27,
   "id": "938497a9-7fcc-4982-97ba-2d6d0e5241e3",
   "metadata": {},
   "outputs": [
    {
     "data": {
      "text/plain": [
       "matrix([[1.86759294],\n",
       "        [1.86759294],\n",
       "        [3.32370595],\n",
       "        [0.98185779]])"
      ]
     },
     "execution_count": 27,
     "metadata": {},
     "output_type": "execute_result"
    }
   ],
   "source": [
    "# Add up all the values in each row\n",
    "eigen_weights=np.sum(adjXeigen,axis=1)  \n",
    "eigen_weights"
   ]
  },
  {
   "cell_type": "code",
   "execution_count": 28,
   "id": "e96354c4-24da-4372-92c6-d9acdf2d90fc",
   "metadata": {},
   "outputs": [
    {
     "data": {
      "text/plain": [
       "matrix([[3.75528823],\n",
       "        [3.75528823],\n",
       "        [4.96145706],\n",
       "        [2.64987034]])"
      ]
     },
     "execution_count": 28,
     "metadata": {},
     "output_type": "execute_result"
    }
   ],
   "source": [
    "eigen_weights = eigen_weights + sum_eigen_vectors[:,None]\n",
    "eigen_weights"
   ]
  },
  {
   "cell_type": "code",
   "execution_count": 8,
   "id": "0f9b37fa-fcc1-4325-8cea-4d4d517e340e",
   "metadata": {},
   "outputs": [],
   "source": [
    "pairwise_dict = defaultdict(list)\n",
    "\n",
    "for pathi in all_paths: \n",
    "    s= np.array(eigen_weights[pathi[0]-1][0]).item()\n",
    "    e= np.array(eigen_weights[pathi[-1]-1][0]).item()\n",
    "    s = round(s, 4)\n",
    "    e = round(e, 4)\n",
    "    pairwise_dict[len(pathi)-1].append([s,e])\n",
    "    \n",
    "pairwise_dict = sort_each_list(pairwise_dict)"
   ]
  },
  {
   "cell_type": "code",
   "execution_count": 75,
   "id": "1776721c-30a2-4b04-aa38-a81d4f6c63da",
   "metadata": {},
   "outputs": [
    {
     "data": {
      "text/plain": [
       "{1: [[3.8961, 5.0789],\n",
       "  [3.9397, 5.0789],\n",
       "  [3.9397, 5.0789],\n",
       "  [2.914, 3.8961],\n",
       "  [3.9397, 3.9397]],\n",
       " 2: [[3.9397, 5.0789],\n",
       "  [3.9397, 5.0789],\n",
       "  [2.914, 5.0789],\n",
       "  [3.8961, 3.9397],\n",
       "  [3.8961, 3.9397],\n",
       "  [3.9397, 3.9397]],\n",
       " 3: [[3.8961, 3.9397], [3.8961, 3.9397], [2.914, 3.9397], [2.914, 3.9397]]}"
      ]
     },
     "execution_count": 75,
     "metadata": {},
     "output_type": "execute_result"
    }
   ],
   "source": [
    "pairwise_dict"
   ]
  },
  {
   "cell_type": "markdown",
   "id": "9c6b4c2c-2b3a-4f45-882c-11b745287e3e",
   "metadata": {},
   "source": [
    "## calculate the min and the max "
   ]
  },
  {
   "cell_type": "code",
   "execution_count": 76,
   "id": "42645ed2-0bc7-4c07-9c87-ab301835fa9c",
   "metadata": {},
   "outputs": [],
   "source": [
    "x_min = y_min = 1000000000\n",
    "x_max = y_max = 0\n",
    "pairwise_dict_numpy = defaultdict(list)\n",
    "\n",
    "for j in pairwise_dict:                \n",
    "    pairwise_dict_numpy[j] = np.array(pairwise_dict[j]).astype(np.float16)\n",
    "    x_min = min(x_min,np.min(pairwise_dict_numpy[j][:,0]))\n",
    "    x_max = max(x_max,np.max(pairwise_dict_numpy[j][:,0]))\n",
    "    y_min = min(y_min,np.min(pairwise_dict_numpy[j][:,1]))\n",
    "    y_max = max(y_max,np.max(pairwise_dict_numpy[j][:,1]))\n",
    "\n",
    "master_list.append(pairwise_dict)"
   ]
  },
  {
   "cell_type": "markdown",
   "id": "687a62f9-38d1-4ad9-9d9e-81b689fb7707",
   "metadata": {},
   "source": [
    "## Construct the Persistance diagram"
   ]
  },
  {
   "cell_type": "code",
   "execution_count": 77,
   "id": "d4425a64-d807-4667-a0e2-c3c65f5806bf",
   "metadata": {},
   "outputs": [
    {
     "data": {
      "image/png": "[encoded data removed]",
      "text/plain": [
       "<Figure size 640x480 with 1 Axes>"
      ]
     },
     "metadata": {},
     "output_type": "display_data"
    }
   ],
   "source": [
    "for index, pw_dict in enumerate(master_list,0):\n",
    "\n",
    "    pairwise_dict_np = defaultdict(list)\n",
    "\n",
    "    for j,  val in enumerate(pw_dict,1):     \n",
    "        pairwise_dict_np[j] = np.array(pw_dict[j]).astype(np.float16)\n",
    "        plt.clf()\n",
    "        plt.xlim(x_min, x_max)\n",
    "        plt.ylim(y_min, y_max)\n",
    "        x, y = pairwise_dict_np[j].T\n",
    "        plt.scatter(x, y)     "
   ]
  },
  {
   "cell_type": "code",
   "execution_count": 78,
   "id": "df1eee2f-ea13-4ed2-934a-85f56f48100e",
   "metadata": {},
   "outputs": [],
   "source": [
    "pi = PersistenceImage(resolution=[40,40], im_range=[x_min, x_max, y_min, y_max])\n",
    "pi.fit([np.array(pw_dict[j]).astype(np.float16)])\n",
    "vec = pi.transform([np.array(pw_dict[j]).astype(np.float16)])"
   ]
  },
  {
   "cell_type": "code",
   "execution_count": 79,
   "id": "565fed9b-0b32-461a-90c2-28f577d4f44e",
   "metadata": {},
   "outputs": [
    {
     "data": {
      "text/plain": [
       "array([[5.27972133e-03, 5.28096098e-03, 5.27862907e-03, ...,\n",
       "        5.47945134e-05, 5.34176953e-05, 5.20401208e-05]])"
      ]
     },
     "execution_count": 79,
     "metadata": {},
     "output_type": "execute_result"
    }
   ],
   "source": [
    "vec"
   ]
  },
  {
   "cell_type": "code",
   "execution_count": null,
   "id": "2ef6ec7c-2593-4866-9233-a6e77f6e7891",
   "metadata": {},
   "outputs": [],
   "source": []
  }
 ],
 "metadata": {
  "kernelspec": {
   "display_name": "Python 3 (ipykernel)",
   "language": "python",
   "name": "python3"
  },
  "language_info": {
   "codemirror_mode": {
    "name": "ipython",
    "version": 3
   },
   "file_extension": ".py",
   "mimetype": "text/x-python",
   "name": "python",
   "nbconvert_exporter": "python",
   "pygments_lexer": "ipython3",
   "version": "3.9.13"
  }
 },
 "nbformat": 4,
 "nbformat_minor": 5
}
